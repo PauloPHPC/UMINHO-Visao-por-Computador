{
 "cells": [
  {
   "cell_type": "code",
   "execution_count": null,
   "id": "fe5e2d85",
   "metadata": {},
   "outputs": [],
   "source": [
    "import cv2\n",
    "# to install cv2 use: pip install opencv-python\n",
    "import math\n",
    "import matplotlib.pyplot as plt \n",
    "import numpy as np\n"
   ]
  },
  {
   "cell_type": "code",
   "execution_count": null,
   "id": "4bdad51c",
   "metadata": {},
   "outputs": [],
   "source": [
    "fname = 'Images/pagode-noisy.png'\n",
    "img = cv2.imread(fname,cv2.IMREAD_GRAYSCALE)\n",
    "print(img.shape)\n",
    "fig = plt.figure(figsize=(15,5))\n",
    "plt.imshow(img, cmap='gray')"
   ]
  },
  {
   "cell_type": "code",
   "execution_count": null,
   "id": "ec388ec3",
   "metadata": {},
   "outputs": [],
   "source": [
    "# OpenCV Gaussian Blur \n",
    "m=31\n",
    "dImg = cv2.GaussianBlur(img,(m,m),0)"
   ]
  },
  {
   "cell_type": "code",
   "execution_count": null,
   "id": "c5e6ad56",
   "metadata": {},
   "outputs": [],
   "source": [
    "fig = plt.figure(figsize=(15,5))\n",
    "plt.imshow(dImg, cmap='gray')"
   ]
  },
  {
   "cell_type": "code",
   "execution_count": null,
   "id": "b4e1ba9b",
   "metadata": {},
   "outputs": [],
   "source": [
    "# OpenCV Local Denoising Filter \n",
    "dImg = cv2.fastNlMeansDenoising(img,None,15,27,51)"
   ]
  },
  {
   "cell_type": "code",
   "execution_count": null,
   "id": "fe627b79",
   "metadata": {},
   "outputs": [],
   "source": [
    "fig = plt.figure(figsize=(15,5))\n",
    "plt.imshow(dImg, cmap='gray')"
   ]
  },
  {
   "cell_type": "code",
   "execution_count": null,
   "id": "69ed3711",
   "metadata": {},
   "outputs": [],
   "source": [
    "# OpenCV Median \n",
    "m=11\n",
    "dImg = cv2.medianBlur(img,m,0)"
   ]
  },
  {
   "cell_type": "code",
   "execution_count": null,
   "id": "96fe6b13",
   "metadata": {},
   "outputs": [],
   "source": [
    "fig = plt.figure(figsize=(15,5))\n",
    "plt.imshow(dImg, cmap='gray')"
   ]
  },
  {
   "cell_type": "code",
   "execution_count": null,
   "id": "df33e89a",
   "metadata": {},
   "outputs": [],
   "source": [
    "# OpenCV Bilateral Filter \n",
    "m=17\n",
    "sigma_s = 75\n",
    "sigma_r = 175\n",
    "dImg = cv2.bilateralFilter(img, m, sigma_s, sigma_r)"
   ]
  },
  {
   "cell_type": "code",
   "execution_count": null,
   "id": "c39ae708",
   "metadata": {},
   "outputs": [],
   "source": [
    "fig = plt.figure(figsize=(15,5))\n",
    "plt.imshow(dImg, cmap='gray')"
   ]
  },
  {
   "cell_type": "code",
   "execution_count": null,
   "id": "5594006f",
   "metadata": {},
   "outputs": [],
   "source": [
    "#cv2.imwrite('Images/1921digitalimage-NlMeans.png',dImg)"
   ]
  },
  {
   "cell_type": "code",
   "execution_count": null,
   "id": "a0ee75c4",
   "metadata": {},
   "outputs": [],
   "source": []
  }
 ],
 "metadata": {
  "kernelspec": {
   "display_name": "Python 3 (ipykernel)",
   "language": "python",
   "name": "python3"
  },
  "language_info": {
   "codemirror_mode": {
    "name": "ipython",
    "version": 3
   },
   "file_extension": ".py",
   "mimetype": "text/x-python",
   "name": "python",
   "nbconvert_exporter": "python",
   "pygments_lexer": "ipython3",
   "version": "3.9.5"
  }
 },
 "nbformat": 4,
 "nbformat_minor": 5
}
