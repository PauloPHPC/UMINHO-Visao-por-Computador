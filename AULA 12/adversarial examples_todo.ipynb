{
 "cells": [
  {
   "cell_type": "markdown",
   "metadata": {},
   "source": [
    "# Adversarial Attacks\n",
    "\n"
   ]
  },
  {
   "cell_type": "markdown",
   "metadata": {},
   "source": [
    "## Preparation"
   ]
  },
  {
   "cell_type": "code",
   "execution_count": 1,
   "metadata": {},
   "outputs": [],
   "source": [
    "import torch\n",
    "import torchvision\n",
    "from torchvision.transforms import v2\n",
    "\n",
    "import torchinfo\n",
    "\n",
    "import matplotlib.pyplot as plt\n",
    "import numpy as np\n",
    "import time\n",
    "\n",
    "from PIL import Image\n",
    "\n",
    "# importing a module with utilities for displaying stats and data\n",
    "import sys\n",
    "sys.path.insert(1, '../../util')\n",
    "import vcpi_util"
   ]
  },
  {
   "cell_type": "markdown",
   "metadata": {},
   "source": [
    "### Model definition"
   ]
  },
  {
   "cell_type": "code",
   "execution_count": 2,
   "metadata": {},
   "outputs": [],
   "source": [
    "class Conv(torch.nn.Module):\n",
    "\n",
    "    def __init__(self, num_classes):\n",
    "        super().__init__()\n",
    "        self.conv1 = torch.nn.Conv2d(3, 16, 3)\n",
    "        self.bn1 = torch.nn.BatchNorm2d(16)\n",
    "        self.relu1 = torch.nn.ReLU()\n",
    "\n",
    "        self.conv2 = torch.nn.Conv2d(16, 32, 3)\n",
    "        self.bn2 = torch.nn.BatchNorm2d(32)\n",
    "        self.relu2 = torch.nn.ReLU()\n",
    "\n",
    "        self.maxpool1 = torch.nn.MaxPool2d(2)\n",
    "\n",
    "\n",
    "        self.conv3 = torch.nn.Conv2d(32, 48, 3)\n",
    "        self.bn3 = torch.nn.BatchNorm2d(48)\n",
    "        self.relu3 = torch.nn.ReLU()\n",
    "\n",
    "        self.conv4 = torch.nn.Conv2d(48, 48, 3)\n",
    "        self.bn4 = torch.nn.BatchNorm2d(48)\n",
    "        self.relu4 = torch.nn.ReLU()\n",
    "\n",
    "        self.maxpool2 = torch.nn.MaxPool2d(2)\n",
    "\n",
    "        self.fc1 = torch.nn.Linear(1200, num_classes)\n",
    "        \n",
    "\n",
    "    def forward(self, x):    \n",
    "        \n",
    "        # input = (bs, 3, 32, 32)\n",
    "        x = self.conv1(x) # -> (bs, 16, 30, 30)\n",
    "        x = self.bn1(x)\n",
    "        x = self.relu1(x)\n",
    "        x = self.conv2(x) # -> (bs, 32, 28, 28)\n",
    "        x = self.bn2(x)\n",
    "        x = self.relu2(x)\n",
    "        x = self.maxpool1(x) # -> (bs, 32, 14, 14)\n",
    "        \n",
    "        x = self.conv3(x) # -> (bs, 48, 12, 12)\n",
    "        x = self.bn3(x)\n",
    "        x = self.relu3(x)\n",
    "        x = self.conv4(x) # -> (bs, 48, 10, 10)\n",
    "        x = self.bn4(x)\n",
    "        x = self.relu4(x)\n",
    "        x = self.maxpool2(x) # -> (bs, 48, 5, 5)\n",
    "        \n",
    "        x = torch.flatten(x,1) # -> (bs, 48 * 5 * 5 = 1200)\n",
    "        x = self.fc1(x)        # -> (bs, num_classes)\n",
    "\n",
    "        return(x)\n",
    "    \n",
    "\n",
    "def plot_predictions(img, models, correct):\n",
    "\n",
    "    fig, axes = plt.subplots(nrows=1, ncols=len(models), sharey=True, figsize = (20, 2))\n",
    "\n",
    "    for i, ax in enumerate(axes.ravel()):\n",
    "\n",
    "        output = models[i].forward(img)\n",
    "        output_probs = torch.nn.functional.softmax(output, dim=-1).cpu().detach().numpy().squeeze(0)\n",
    "        pred = np.argmax(output_probs, axis=-1)\n",
    "        colors = [\"#777777\" for i in range(10)]\n",
    "        colors[pred] = 'red'\n",
    "        colors[correct] = 'blue'\n",
    "        ax.set_title(f'Model {i}')\n",
    "        ax.bar(range(8), output_probs, color=colors)\n",
    "        ax.set_ylim([0, 1])\n",
    "        ax.set_xticks(range(8))\n",
    "\n",
    "\n",
    "def plot_adversarial(original, perturbation, adversarial):\n",
    "\n",
    "    fig, axes = plt.subplots(nrows=1, ncols=3, sharey=True, figsize = (15,5))\n",
    "\n",
    "    ax = axes.ravel()\n",
    "\n",
    "    ax[0].set_title(f'Original')\n",
    "    ax[0].imshow(np.transpose(original.cpu().detach().numpy().squeeze(0), (1,2,0))) \n",
    "    ax[0].axis('off')     \n",
    "\n",
    "    ax[1].set_title(f'Perturbation')\n",
    "    ax[1].imshow(np.transpose(perturbation.cpu().detach().numpy().squeeze(0), (1,2,0))) \n",
    "    ax[1].axis('off')   \n",
    "\n",
    "    ax[2].set_title(f'Adversarial')\n",
    "    ax[2].imshow(np.transpose(adversarial.cpu().detach().numpy().squeeze(0), (1,2,0))) \n",
    "    ax[2].axis('off')           "
   ]
  },
  {
   "cell_type": "code",
   "execution_count": 3,
   "metadata": {},
   "outputs": [
    {
     "name": "stdout",
     "output_type": "stream",
     "text": [
      "cuda:0\n"
     ]
    }
   ],
   "source": [
    "device = torch.device('cuda:0' if torch.cuda.is_available() else 'cpu')\n",
    "print(device)"
   ]
  },
  {
   "cell_type": "code",
   "execution_count": 4,
   "metadata": {},
   "outputs": [],
   "source": [
    "PATH_TEST_SET = 'H:/vcpi/gtsrb/test'\n",
    "\n",
    "transform = v2.Compose(\n",
    "    [v2.Resize((32,32)), \n",
    "     v2.ToImage(), \n",
    "     v2.ToDtype(torch.float32, scale=True)]) \n",
    "\n",
    "# No shuffle is required for the test set, also the batch size can be completely different\n",
    "test_set = torchvision.datasets.ImageFolder(root=PATH_TEST_SET, transform = transform)\n",
    "test_loader = torch.utils.data.DataLoader(test_set, batch_size = 128)"
   ]
  },
  {
   "cell_type": "markdown",
   "metadata": {},
   "source": [
    "### Load models trained on GTSRB"
   ]
  },
  {
   "cell_type": "code",
   "execution_count": 5,
   "metadata": {},
   "outputs": [],
   "source": [
    "\n",
    "models = []\n",
    "acc = []\n",
    "\n",
    "for i in range(10):\n",
    "\n",
    "    reload = torch.load(f'pretrained_models/aug_II_{i}_best.pt')\n",
    "    model = Conv(8)\n",
    "    model.load_state_dict(reload['model'])\n",
    "    model.to(device)\n",
    "    models.append(model)\n",
    "    "
   ]
  },
  {
   "cell_type": "code",
   "execution_count": 6,
   "metadata": {},
   "outputs": [
    {
     "data": {
      "text/plain": [
       "==========================================================================================\n",
       "Layer (type:depth-idx)                   Output Shape              Param #\n",
       "==========================================================================================\n",
       "Conv                                     [32, 8]                   --\n",
       "├─Conv2d: 1-1                            [32, 16, 30, 30]          448\n",
       "├─BatchNorm2d: 1-2                       [32, 16, 30, 30]          32\n",
       "├─ReLU: 1-3                              [32, 16, 30, 30]          --\n",
       "├─Conv2d: 1-4                            [32, 32, 28, 28]          4,640\n",
       "├─BatchNorm2d: 1-5                       [32, 32, 28, 28]          64\n",
       "├─ReLU: 1-6                              [32, 32, 28, 28]          --\n",
       "├─MaxPool2d: 1-7                         [32, 32, 14, 14]          --\n",
       "├─Conv2d: 1-8                            [32, 48, 12, 12]          13,872\n",
       "├─BatchNorm2d: 1-9                       [32, 48, 12, 12]          96\n",
       "├─ReLU: 1-10                             [32, 48, 12, 12]          --\n",
       "├─Conv2d: 1-11                           [32, 48, 10, 10]          20,784\n",
       "├─BatchNorm2d: 1-12                      [32, 48, 10, 10]          96\n",
       "├─ReLU: 1-13                             [32, 48, 10, 10]          --\n",
       "├─MaxPool2d: 1-14                        [32, 48, 5, 5]            --\n",
       "├─Linear: 1-15                           [32, 8]                   9,608\n",
       "==========================================================================================\n",
       "Total params: 49,640\n",
       "Trainable params: 49,640\n",
       "Non-trainable params: 0\n",
       "Total mult-adds (Units.MEGABYTES): 260.06\n",
       "==========================================================================================\n",
       "Input size (MB): 0.39\n",
       "Forward/backward pass size (MB): 26.22\n",
       "Params size (MB): 0.20\n",
       "Estimated Total Size (MB): 26.81\n",
       "=========================================================================================="
      ]
     },
     "execution_count": 6,
     "metadata": {},
     "output_type": "execute_result"
    }
   ],
   "source": [
    "torchinfo.summary(models[0], input_size=(32,3,32,32))"
   ]
  }
 ],
 "metadata": {
  "interpreter": {
   "hash": "e4021f77399b0c3ea16bff0ae94696dcd4cdd5e0b0f5106453c00b9c56c37456"
  },
  "kernelspec": {
   "display_name": "Python 3.7.3 64-bit",
   "language": "python",
   "name": "python3"
  },
  "language_info": {
   "codemirror_mode": {
    "name": "ipython",
    "version": 3
   },
   "file_extension": ".py",
   "mimetype": "text/x-python",
   "name": "python",
   "nbconvert_exporter": "python",
   "pygments_lexer": "ipython3",
   "version": "3.11.3"
  }
 },
 "nbformat": 4,
 "nbformat_minor": 2
}
