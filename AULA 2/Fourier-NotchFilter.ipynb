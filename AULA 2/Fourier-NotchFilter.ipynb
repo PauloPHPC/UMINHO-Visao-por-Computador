{
 "cells": [
  {
   "cell_type": "markdown",
   "id": "c160d48f",
   "metadata": {},
   "source": [
    "## Using the DFT"
   ]
  },
  {
   "cell_type": "code",
   "execution_count": null,
   "id": "fe5e2d85",
   "metadata": {},
   "outputs": [],
   "source": [
    "import cv2\n",
    "# to install cv2 use: pip install opencv-python\n",
    "import math\n",
    "import matplotlib.pyplot as plt \n",
    "import numpy as np\n"
   ]
  },
  {
   "cell_type": "markdown",
   "id": "b72bc040",
   "metadata": {},
   "source": [
    "### vectorial implementation of the notch filter\n",
    "\n",
    "from https://stackoverflow.com/questions/65483030/notch-reject-filtering-in-python"
   ]
  },
  {
   "cell_type": "code",
   "execution_count": null,
   "id": "8b7c36d1",
   "metadata": {},
   "outputs": [],
   "source": [
    "# shape: (W,H) are the width and height of the filter\n",
    "\n",
    "# d0 is the radius of the filter expressed in pixels\n",
    "\n",
    "# u_k and v_k are the center coordinates in the Fourier image plane for the notch filter\n",
    "# u_k=0, v_k=0 correspond to the center of the shifted spectrum\n",
    "\n",
    "def notch_reject_filter_vec(shape: tuple[int, int], d0: int, u_k: int, v_k: int):\n",
    "    (W, H) = shape\n",
    "\n",
    "    H_0_u = np.repeat(np.arange(W), H).reshape((W, H))\n",
    "    H_0_v = np.repeat(np.arange(H), W).reshape((H, W)).transpose()\n",
    "\n",
    "    D_uv = np.sqrt((H_0_u - W / 2 + u_k) ** 2 + (H_0_v - H / 2 + v_k) ** 2)\n",
    "    D_muv = np.sqrt((H_0_u - W / 2 - u_k) ** 2 + (H_0_v - H / 2 - v_k) ** 2)\n",
    "\n",
    "    selector_1 = D_uv <= d0\n",
    "    selector_2 = D_muv <= d0\n",
    "\n",
    "    selector = np.logical_or(selector_1, selector_2)\n",
    "\n",
    "    H = np.ones((W, H, 2), np.uint8)\n",
    "    H[selector] = 0\n",
    "\n",
    "    return H"
   ]
  },
  {
   "cell_type": "code",
   "execution_count": null,
   "id": "4bdad51c",
   "metadata": {},
   "outputs": [],
   "source": [
    "fname = 'Images/Car-Moire.png'\n",
    "img = cv2.imread(fname,cv2.IMREAD_GRAYSCALE)\n",
    "print('Image Shape =', img.shape)"
   ]
  },
  {
   "cell_type": "code",
   "execution_count": null,
   "id": "375e9b13",
   "metadata": {},
   "outputs": [],
   "source": [
    "# convert the image representation to SPFP\n",
    "img_float32 = np.float32(img)"
   ]
  },
  {
   "cell_type": "code",
   "execution_count": null,
   "id": "f825b546",
   "metadata": {},
   "outputs": [],
   "source": [
    "# compute the DFT\n",
    "# Note that the computed DFT has 2 channels :\n",
    "# dft[:,:,0] - real values\n",
    "# dft[:,:,1] - imaginary values\n",
    "dft = cv2.dft(img_float32, flags = cv2.DFT_COMPLEX_OUTPUT)\n",
    "# recenter the DFT , such that the center is (0,0)\n",
    "dft_shift = np.fft.fftshift(dft)\n",
    "# compute the frequency spectrum\n",
    "# module of the complex value\n",
    "magnitude_spectrum = cv2.magnitude(dft_shift[:,:,0],dft_shift[:,:,1])\n",
    "# compute the logarith of magnitude such that smaller values are visible\n",
    "magnitude_spectrum = 20*np.log(magnitude_spectrum)"
   ]
  },
  {
   "cell_type": "code",
   "execution_count": null,
   "id": "0add8491",
   "metadata": {},
   "outputs": [],
   "source": [
    "# display the image and the spectrum\n",
    "fig = plt.figure(figsize=(15,5))\n",
    "plt.subplot(121),plt.imshow(img, cmap = 'gray')\n",
    "plt.title('Input Image'), plt.xticks([]), plt.yticks([])\n",
    "plt.subplot(122),plt.imshow(magnitude_spectrum, cmap = 'gray')\n",
    "plt.title('Magnitude Spectrum'), plt.xticks([]), plt.yticks([])\n",
    "plt.show()         "
   ]
  },
  {
   "cell_type": "markdown",
   "id": "bb8e3fa3",
   "metadata": {},
   "source": [
    "### Apply Notch filters"
   ]
  },
  {
   "cell_type": "code",
   "execution_count": null,
   "id": "7afc5dbc",
   "metadata": {},
   "outputs": [],
   "source": [
    "# several notch filters can be composited by multiplication\n",
    "\n",
    "# fill in the following lists to compose multiple notch filters\n",
    "\n",
    "d0_list = [9]\n",
    "u_k_list = [38]\n",
    "v_k_list = [30]\n",
    "\n",
    "H = notch_reject_filter_vec (img.shape, d0_list[0], u_k_list[0], v_k_list[0])\n",
    "\n",
    "for d0, u_k, v_k in zip (d0_list[1:], u_k_list[1:], v_k_list[1:]):\n",
    "    Haux = notch_reject_filter_vec (img.shape, d0, u_k, v_k)\n",
    "\n",
    "    H *= Haux\n",
    "    \n",
    "# apply mask and inverse DFT\n",
    "dft_masked = dft_shift*H\n",
    "# do not forget to undo the centering of the transform\n",
    "dft_masked_ishift = np.fft.ifftshift(dft_masked)\n",
    "img_back = cv2.idft(dft_masked_ishift)\n",
    "\n",
    "# img_back should only have real values\n",
    "# but let's make sure due to rounding and representation errors\n",
    "img_back = cv2.magnitude(img_back[:,:,0],img_back[:,:,1])"
   ]
  },
  {
   "cell_type": "code",
   "execution_count": null,
   "id": "a8c89334",
   "metadata": {},
   "outputs": [],
   "source": [
    "# compute the DFT of the processed image (img_back)\n",
    "# Note that the computed DFT has 2 channels :\n",
    "# dft[:,:,0] - real values\n",
    "# dft[:,:,1] - imaginary values\n",
    "dft_proc = cv2.dft(img_back, flags = cv2.DFT_COMPLEX_OUTPUT)\n",
    "# recenter the DFT , such that the center is (0,0)\n",
    "dft_proc_shift = np.fft.fftshift(dft_proc)\n",
    "# compute the frequency spectrum\n",
    "# module of the complex value\n",
    "filtered_spectrum = cv2.magnitude(dft_proc_shift[:,:,0],dft_proc_shift[:,:,1])\n",
    "# compute the logarith of magnitude such that smaller values are visible\n",
    "filtered_spectrum = 20*np.log(filtered_spectrum)"
   ]
  },
  {
   "cell_type": "code",
   "execution_count": null,
   "id": "d50b8681",
   "metadata": {},
   "outputs": [],
   "source": [
    "# compute the frequency spectrum of the MASK, \n",
    "# just for display purposes\n",
    "# module of the complex value\n",
    "mask_spectrum = np.sqrt(np.power(H[:,:,0],2)+np.power(H[:,:,1],2))\n",
    "# compute the logarith of magnitude such that smaller values are visible\n",
    "mask_spectrum = 20*np.log(mask_spectrum+0.0001)"
   ]
  },
  {
   "cell_type": "code",
   "execution_count": null,
   "id": "a7e68557",
   "metadata": {
    "scrolled": false
   },
   "outputs": [],
   "source": [
    "# display the image and the spectrum\n",
    "fig = plt.figure(figsize=(15,23))\n",
    "plt.subplot(321),plt.imshow(img, cmap = 'gray')\n",
    "plt.title('Input Image'), plt.xticks([]), plt.yticks([])\n",
    "plt.subplot(322),plt.imshow(magnitude_spectrum, cmap = 'gray')\n",
    "plt.title('Input Spectrum'), plt.xticks([]), plt.yticks([])\n",
    "plt.subplot(323),plt.imshow(mask_spectrum, cmap = 'gray')\n",
    "plt.title('Filter Spectrum'), plt.xticks([]), plt.yticks([])\n",
    "plt.subplot(325),plt.imshow(img_back, cmap = 'gray')\n",
    "plt.title('Filtered Image'), plt.xticks([]), plt.yticks([])\n",
    "plt.subplot(326),plt.imshow(filtered_spectrum, cmap = 'gray')\n",
    "plt.title('Filtered Spectrum'), plt.xticks([]), plt.yticks([])\n",
    "plt.show()         "
   ]
  },
  {
   "cell_type": "markdown",
   "id": "7f8754e2",
   "metadata": {},
   "source": [
    "## Do it YOURSELF\n",
    "\n",
    "* Can you do any better by multiplying multiple filters?\n",
    "* Can you automatically dtetct the centers (and eventually the radius) of the filters?"
   ]
  },
  {
   "cell_type": "code",
   "execution_count": null,
   "id": "5594006f",
   "metadata": {},
   "outputs": [],
   "source": [
    "#cv2.imwrite('Images/myImgFiltered.png',dImg)"
   ]
  },
  {
   "cell_type": "code",
   "execution_count": null,
   "id": "a0ee75c4",
   "metadata": {},
   "outputs": [],
   "source": [
    "print (\"That's all, folks!\")"
   ]
  }
 ],
 "metadata": {
  "kernelspec": {
   "display_name": "Python 3 (ipykernel)",
   "language": "python",
   "name": "python3"
  },
  "language_info": {
   "codemirror_mode": {
    "name": "ipython",
    "version": 3
   },
   "file_extension": ".py",
   "mimetype": "text/x-python",
   "name": "python",
   "nbconvert_exporter": "python",
   "pygments_lexer": "ipython3",
   "version": "3.9.5"
  }
 },
 "nbformat": 4,
 "nbformat_minor": 5
}
